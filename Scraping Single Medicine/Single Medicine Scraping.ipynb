{
 "cells": [
  {
   "cell_type": "code",
   "execution_count": 1,
   "id": "7302774d",
   "metadata": {},
   "outputs": [
    {
     "data": {
      "text/plain": [
       "<pymongo.results.InsertOneResult at 0x1f51c3e63c0>"
      ]
     },
     "execution_count": 1,
     "metadata": {},
     "output_type": "execute_result"
    }
   ],
   "source": [
    "import requests\n",
    "import re\n",
    "import pymongo\n",
    "\n",
    "# Mongo db connect\n",
    "mongo_client = pymongo.MongoClient(\"mongodb://localhost:27017/\")\n",
    "dashboard = mongo_client[\"BestmomDatascraping\"]\n",
    "cl_data = dashboard['SingleMedicine']\n",
    "\n",
    "headers = {\n",
    "            'User-Agent':'Mozilla/5.0 (Windows NT 10.0; Win64; x64) AppleWebKit/537.36 (KHTML, like Gecko) Chrome/87.0.4280.88 Safari/537.36'\n",
    "    }\n",
    "\n",
    "url = 'https://www.1mg.com/drugs/dolo-650-tablet-74467'\n",
    "page = requests.get(url, headers = headers, timeout = 60).text\n",
    "\n",
    "Active_Drug = re.search('class=\"saltInfo DrugHeader__meta-value___vqYM0\">.*?>(.*?)<',page).group(1)\n",
    "\n",
    "Synonyms = re.search('class=\"saltInfo DrugHeader__underline___f4HNk DrugHeader__meta-value___vqYM0\">.*?>(.*?)<',page).group(1)\n",
    "\n",
    "Brand = re.findall('class=\"SubstituteItem__name___PH8Al\">(.*?)<',page)\n",
    "\n",
    "side_effect = re.search('class=\"DrugOverview__list-container___2eAr6 DrugOverview__content___22ZBX\">(.*?)</ul>',page).group(1)\n",
    "side_effect = re.sub('<.*?>',' ',side_effect,re.S)\n",
    "\n",
    "Pricing = re.search('class=\"SubstituteList__top-row___1tAmD\">.*?<div>.*?<div>(.*?)<',page).group(1)\n",
    "\n",
    "# storing the above data in a dictionary\n",
    "clientdata ={\n",
    "\n",
    "                \"Active_Drug\":Active_Drug,\n",
    "                \"Synonyms\":Synonyms,\n",
    "                \"Brand\": Brand,\n",
    "                \"side_effect\":side_effect,\n",
    "                \"Pricing\":Pricing,\n",
    "            } \n",
    "\n",
    "cl_data.insert_one(clientdata) "
   ]
  },
  {
   "cell_type": "code",
   "execution_count": null,
   "id": "767e17dc",
   "metadata": {},
   "outputs": [],
   "source": []
  }
 ],
 "metadata": {
  "kernelspec": {
   "display_name": "Python 3",
   "language": "python",
   "name": "python3"
  },
  "language_info": {
   "codemirror_mode": {
    "name": "ipython",
    "version": 3
   },
   "file_extension": ".py",
   "mimetype": "text/x-python",
   "name": "python",
   "nbconvert_exporter": "python",
   "pygments_lexer": "ipython3",
   "version": "3.8.8"
  }
 },
 "nbformat": 4,
 "nbformat_minor": 5
}
